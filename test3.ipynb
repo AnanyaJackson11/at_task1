{
 "cells": [
  {
   "cell_type": "code",
   "execution_count": 3,
   "id": "0db34c44",
   "metadata": {},
   "outputs": [
    {
     "name": "stdout",
     "output_type": "stream",
     "text": [
      "                   Player   HS  Season\n",
      "0      Brendon McCullum\\n  158    2008\n",
      "1        Andrew Symonds\\n  117    2008\n",
      "2        Michael Hussey\\n  116    2008\n",
      "3           Shaun Marsh\\n  115    2008\n",
      "4     Sanath Jayasuriya\\n  114    2008\n",
      "5    Adam Gilchrist\\nPBKS  109    2008\n",
      "6  Kumar Sangakkara\\nPBKS   94    2008\n",
      "7     Virender Sehwag\\nDC   94    2008\n",
      "8        Graeme Smith\\nRR   91    2008\n",
      "9     Sourav Ganguly\\nKKR   91    2008\n"
     ]
    }
   ],
   "source": [
    "import pandas as pd\n",
    "from pathlib import Path\n",
    "import re\n",
    "\n",
    "# Function to extract season year from filename\n",
    "def extract_season(file_path):\n",
    "    match = re.search(r\"(\\d{4})\", file_path.name)\n",
    "    if match:\n",
    "        return int(match.group(1))\n",
    "    return None\n",
    "\n",
    "data_folder = Path(r\"E:\\at_task\\highscoretest\")  \n",
    "\n",
    "df_list = []\n",
    "for file in data_folder.glob(\"*.csv\"):\n",
    "    season = extract_season(file)\n",
    "    temp_df = pd.read_csv(file)\n",
    "    temp_df[\"Season\"] = season\n",
    "    df_list.append(temp_df)\n",
    "\n",
    "# Combine all into one DataFrame\n",
    "df_combined = pd.concat(df_list, ignore_index=True)\n",
    "\n",
    "# Check if the Season column looks right\n",
    "print(df_combined[[\"Player\", \"HS\", \"Season\"]].head(10))\n"
   ]
  },
  {
   "cell_type": "markdown",
   "id": "8ed55461",
   "metadata": {},
   "source": [
    "collected data needs to be cleaned, season col needs to be added in each csv file "
   ]
  }
 ],
 "metadata": {
  "kernelspec": {
   "display_name": "ipl-v",
   "language": "python",
   "name": "python3"
  },
  "language_info": {
   "codemirror_mode": {
    "name": "ipython",
    "version": 3
   },
   "file_extension": ".py",
   "mimetype": "text/x-python",
   "name": "python",
   "nbconvert_exporter": "python",
   "pygments_lexer": "ipython3",
   "version": "3.11.9"
  }
 },
 "nbformat": 4,
 "nbformat_minor": 5
}
